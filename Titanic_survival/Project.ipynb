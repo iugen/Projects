{
 "cells": [
  {
   "cell_type": "markdown",
   "metadata": {},
   "source": [
    "# Investigate a dataset"
   ]
  },
  {
   "cell_type": "markdown",
   "metadata": {},
   "source": [
    "In the following project it will be analyzed the 'titanic_data.csv' dataset, containing informations on some passengers and members of the crew of the Titanic. \n",
    "The objective of the project is to see which factors made people more likely to survive."
   ]
  },
  {
   "cell_type": "code",
   "execution_count": 1,
   "metadata": {
    "collapsed": true
   },
   "outputs": [],
   "source": [
    "# importing libraries \n",
    "import matplotlib.pyplot as plt\n",
    "import seaborn as sns\n",
    "import numpy as np\n",
    "import pandas as pd "
   ]
  },
  {
   "cell_type": "code",
   "execution_count": 2,
   "metadata": {
    "collapsed": true
   },
   "outputs": [],
   "source": [
    "# creating a dataframe from the csv file\n",
    "titanic_df = pd.read_csv('titanic_data.csv')"
   ]
  },
  {
   "cell_type": "code",
   "execution_count": 3,
   "metadata": {},
   "outputs": [
    {
     "data": {
      "text/plain": [
       "<matplotlib.text.Text at 0x2805dbe8b70>"
      ]
     },
     "execution_count": 3,
     "metadata": {},
     "output_type": "execute_result"
    },
    {
     "data": {
      "image/png": "[encoded data removed]",
      "text/plain": [
       "<matplotlib.figure.Figure at 0x2805dadc2b0>"
      ]
     },
     "metadata": {},
     "output_type": "display_data"
    }
   ],
   "source": [
    "# analysis of the distribution of age between the people on Titanic\n",
    "%matplotlib inline\n",
    "titanic_df['Age'].hist(bins=8)\n",
    "plt.title('Age distribution')\n",
    "plt.xlabel('Age interval')\n",
    "plt.ylabel('N')"
   ]
  },
  {
   "cell_type": "markdown",
   "metadata": {},
   "source": [
    "This histogram shows the distribution of age between the people on the Titanic"
   ]
  },
  {
   "cell_type": "markdown",
   "metadata": {},
   "source": [
    "## Survived people"
   ]
  },
  {
   "cell_type": "markdown",
   "metadata": {},
   "source": [
    "It will be now analyzed the data about the survived people to discover which factors made the probability of survive higher"
   ]
  },
  {
   "cell_type": "code",
   "execution_count": 51,
   "metadata": {},
   "outputs": [
    {
     "name": "stdout",
     "output_type": "stream",
     "text": [
      "The overall percentage of people survived is 38.38383838383838\n"
     ]
    }
   ],
   "source": [
    "# calculation of percentage of overall survived\n",
    "total_survived = titanic_df['Survived'].sum()     # total number of people survived\n",
    "number_of_passenger = len(titanic_df)             # total number of people on the ship\n",
    "perc_survived_overall = 100*total_survived/number_of_passenger        # percentage of survived\n",
    "print ('The overall percentage of people survived is',perc_survived_overall)"
   ]
  },
  {
   "cell_type": "code",
   "execution_count": 45,
   "metadata": {
    "collapsed": true
   },
   "outputs": [],
   "source": [
    "# function to calculate the percentage of people survived by different key of the dataset\n",
    "def survived_by_key(df,key):\n",
    "    data_by_key = df.groupby(key)\n",
    "    #print (data_by_class.head())\n",
    "    surv_by_key = data_by_key['Survived'].sum()     # survived passenger by key\n",
    "    pass_by_key = data_by_key['Survived'].size()    # total passenger by key\n",
    "    perc_survived_by_key = 100*surv_by_key/pass_by_key      # percentage\n",
    "    return perc_survived_by_key"
   ]
  },
  {
   "cell_type": "code",
   "execution_count": 46,
   "metadata": {},
   "outputs": [
    {
     "name": "stdout",
     "output_type": "stream",
     "text": [
      "Pclass\n",
      "1    62.962963\n",
      "2    47.282609\n",
      "3    24.236253\n",
      "Name: Survived, dtype: float64\n"
     ]
    },
    {
     "data": {
      "text/plain": [
       "<matplotlib.text.Text at 0x28061834860>"
      ]
     },
     "execution_count": 46,
     "metadata": {},
     "output_type": "execute_result"
    },
    {
     "data": {
      "image/png": "[encoded data removed]",
      "text/plain": [
       "<matplotlib.figure.Figure at 0x280616f1cf8>"
      ]
     },
     "metadata": {},
     "output_type": "display_data"
    }
   ],
   "source": [
    "# Analysis of people survived by class\n",
    "survived_by_class = survived_by_key(titanic_df,'Pclass')\n",
    "print (survived_by_class)\n",
    "survived_by_class.plot.bar()\n",
    "plt.ylabel('%')\n",
    "plt.title('Percentage of survived')"
   ]
  },
  {
   "cell_type": "markdown",
   "metadata": {},
   "source": [
    "Graph showing the percentage of people survived by class. The suriving rate is higher for the first class, as easily predictable."
   ]
  },
  {
   "cell_type": "code",
   "execution_count": 47,
   "metadata": {},
   "outputs": [
    {
     "name": "stdout",
     "output_type": "stream",
     "text": [
      "Sex\n",
      "female    74.203822\n",
      "male      18.890815\n",
      "Name: Survived, dtype: float64\n"
     ]
    },
    {
     "data": {
      "text/plain": [
       "<matplotlib.text.Text at 0x280618b44a8>"
      ]
     },
     "execution_count": 47,
     "metadata": {},
     "output_type": "execute_result"
    },
    {
     "data": {
      "image/png": "[encoded data removed]",
      "text/plain": [
       "<matplotlib.figure.Figure at 0x28061876e80>"
      ]
     },
     "metadata": {},
     "output_type": "display_data"
    }
   ],
   "source": [
    "# Analysis of people survived by gender\n",
    "survived_by_sex = survived_by_key(titanic_df,'Sex')\n",
    "print (survived_by_sex)\n",
    "survived_by_sex.plot.bar()\n",
    "plt.ylabel('%')\n",
    "plt.title('Percentage of survived')"
   ]
  },
  {
   "cell_type": "markdown",
   "metadata": {},
   "source": [
    "Graph showing the percentage of people survived by gender"
   ]
  },
  {
   "cell_type": "code",
   "execution_count": 52,
   "metadata": {},
   "outputs": [
    {
     "name": "stdout",
     "output_type": "stream",
     "text": [
      "Sex        female       male\n",
      "Pclass                      \n",
      "1       96.808511  36.885246\n",
      "2       92.105263  15.740741\n",
      "3       50.000000  13.544669\n"
     ]
    },
    {
     "data": {
      "text/plain": [
       "<matplotlib.legend.Legend at 0x2806187d710>"
      ]
     },
     "execution_count": 52,
     "metadata": {},
     "output_type": "execute_result"
    },
    {
     "data": {
      "image/png": "[encoded data removed]",
      "text/plain": [
       "<matplotlib.figure.Figure at 0x2805ffb86a0>"
      ]
     },
     "metadata": {},
     "output_type": "display_data"
    }
   ],
   "source": [
    "# Combined analysis by class and gender\n",
    "survived_by_class_and_sex = survived_by_key(titanic_df,['Pclass','Sex']).unstack()\n",
    "print (survived_by_class_and_sex1)\n",
    "#%matplotlib inline\n",
    "fig = survived_by_class_and_sex1.plot.bar()\n",
    "fig.set(xlabel = 'Class', ylabel = '%',\n",
    "        title = 'Percentage of survived by class and gender')\n",
    "fig.set_xticklabels(fig.get_xmajorticklabels(), rotation = 0)\n",
    "fig.legend(title='Gender')"
   ]
  },
  {
   "cell_type": "markdown",
   "metadata": {},
   "source": [
    "Graph showing the percentage of people survived by class and gender. It can be seen that the trend doesn't change."
   ]
  },
  {
   "cell_type": "code",
   "execution_count": 50,
   "metadata": {},
   "outputs": [
    {
     "name": "stdout",
     "output_type": "stream",
     "text": [
      "There are 177 blank age cells out of 891 total data\n",
      "\n",
      "Age bin\n",
      "0-15     59.036145\n",
      "16-30    35.889571\n",
      "31-45    42.574257\n",
      "45+      36.893204\n",
      "Name: Survived, dtype: float64\n"
     ]
    },
    {
     "data": {
      "text/plain": [
       "<matplotlib.text.Text at 0x28061a919e8>"
      ]
     },
     "execution_count": 50,
     "metadata": {},
     "output_type": "execute_result"
    },
    {
     "data": {
      "image/png": "[encoded data removed]",
      "text/plain": [
       "<matplotlib.figure.Figure at 0x280619abcf8>"
      ]
     },
     "metadata": {},
     "output_type": "display_data"
    }
   ],
   "source": [
    "# Analysis by age\n",
    "# Data has to be grouped in bins to be better analyzed\n",
    "age_data = titanic_df['Age'].dropna()   # do not take into account the empty age cells\n",
    "max_age = age_data.max()\n",
    "n_age_missing = len(titanic_df) - len(age_data)  # number of missing age data\n",
    "\n",
    "print ('There are',n_age_missing,'blank age cells out of', len(titanic_df),'total data')\n",
    "print ('')\n",
    "\n",
    "# binning age data in groups\n",
    "age_data_binned = pd.cut(age_data,[0,15,30,45,max_age],labels=['0-15','16-30','31-45','45+'], retbins=False)\n",
    "#creating DataFrame out of binned data\n",
    "age_data_binned_df = pd.DataFrame(age_data_binned)\n",
    "age_data_binned_df=age_data_binned_df.rename(columns = {'Age':'Age bin'}) #change the name of the column to avoid error when merging\n",
    "#creating new dataframe with one more column \n",
    "new_df = titanic_df.join(age_data_binned_df)\n",
    "\n",
    "#call the function to calculate percentage by age\n",
    "survived_by_age = survived_by_key(new_df,['Age bin'])\n",
    "print (survived_by_age)\n",
    "survived_by_age.plot.bar()\n",
    "plt.ylabel('%')\n",
    "plt.title('Percentage of survived')"
   ]
  },
  {
   "cell_type": "markdown",
   "metadata": {},
   "source": [
    "Graph showing the percentage of people survived by age. The data has been grouped in four bins in oredr to have a significant amount of data in every bin."
   ]
  },
  {
   "cell_type": "markdown",
   "metadata": {},
   "source": [
    "## Conclusions"
   ]
  },
  {
   "cell_type": "markdown",
   "metadata": {},
   "source": [
    "It can be seen by the graphs that the higher is the class, the higher is the percentage of surviving. It sounds reasonable.\n",
    "The graphs also show that the percentage of survived is definetly much higher between female and slightly higher between younger (under 15 years old). It can be easly explained with the fact that women and children most likely got on lifeboats first. Combined analysis of surviving by both class and gender does not show any anomaly. <br>\n",
    "This dataset contains just the informations of 891 people out of over 3000 people that were on the Titanic, including both passengers and crew members. Nevertheless, the analysis doesn't show any odd results, so the conclusions can be considered valid for the whole amount of passenger. "
   ]
  }
 ],
 "metadata": {
  "kernelspec": {
   "display_name": "Python [conda root]",
   "language": "python",
   "name": "conda-root-py"
  },
  "language_info": {
   "codemirror_mode": {
    "name": "ipython",
    "version": 2
   },
   "file_extension": ".py",
   "mimetype": "text/x-python",
   "name": "python",
   "nbconvert_exporter": "python",
   "pygments_lexer": "ipython2",
   "version": "2.7.14"
  }
 },
 "nbformat": 4,
 "nbformat_minor": 2
}
